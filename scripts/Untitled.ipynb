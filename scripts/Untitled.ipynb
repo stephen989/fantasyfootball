{
 "cells": [
  {
   "cell_type": "code",
   "execution_count": 3,
   "id": "c943d16b-2ee3-4090-9b5a-36a30acff7f8",
   "metadata": {},
   "outputs": [],
   "source": [
    "from infra import *"
   ]
  },
  {
   "cell_type": "code",
   "execution_count": 11,
   "id": "a7704c30-d93d-436c-973c-ff5bd19a8dad",
   "metadata": {},
   "outputs": [],
   "source": [
    "stats = read_clean_season_stats(2024)\n",
    "lineups = read_lineups(2024, 1)\n",
    "appearances = read_season_appearences(2024)"
   ]
  },
  {
   "cell_type": "code",
   "execution_count": 12,
   "id": "6870a07d-de2e-4843-acee-d6d23e834b5a",
   "metadata": {},
   "outputs": [
    {
     "data": {
      "text/html": [
       "<div>\n",
       "<style scoped>\n",
       "    .dataframe tbody tr th:only-of-type {\n",
       "        vertical-align: middle;\n",
       "    }\n",
       "\n",
       "    .dataframe tbody tr th {\n",
       "        vertical-align: top;\n",
       "    }\n",
       "\n",
       "    .dataframe thead th {\n",
       "        text-align: right;\n",
       "    }\n",
       "</style>\n",
       "<table border=\"1\" class=\"dataframe\">\n",
       "  <thead>\n",
       "    <tr style=\"text-align: right;\">\n",
       "      <th></th>\n",
       "      <th>player_id</th>\n",
       "      <th>week</th>\n",
       "      <th>defensiveSoloTackles</th>\n",
       "      <th>defensiveTotalTackles</th>\n",
       "      <th>110</th>\n",
       "      <th>teamLoss</th>\n",
       "      <th>210</th>\n",
       "      <th>defensiveAssistedTackles</th>\n",
       "      <th>111</th>\n",
       "      <th>112</th>\n",
       "      <th>...</th>\n",
       "      <th>228</th>\n",
       "      <th>missedFieldGoalsFrom60Plus</th>\n",
       "      <th>netPunts</th>\n",
       "      <th>puntYards</th>\n",
       "      <th>143</th>\n",
       "      <th>puntAverage</th>\n",
       "      <th>puntAverage42.0-43.9</th>\n",
       "      <th>fumbleRecoveredForTD</th>\n",
       "      <th>defensive2PtReturns</th>\n",
       "      <th>passing400PlusYardGame</th>\n",
       "    </tr>\n",
       "  </thead>\n",
       "  <tbody>\n",
       "    <tr>\n",
       "      <th>0</th>\n",
       "      <td>4242899</td>\n",
       "      <td>9</td>\n",
       "      <td>3.0</td>\n",
       "      <td>3.0</td>\n",
       "      <td>1.0</td>\n",
       "      <td>1.0</td>\n",
       "      <td>1.0</td>\n",
       "      <td>0.0</td>\n",
       "      <td>0.0</td>\n",
       "      <td>0.0</td>\n",
       "      <td>...</td>\n",
       "      <td>0.0</td>\n",
       "      <td>0.0</td>\n",
       "      <td>0.0</td>\n",
       "      <td>0.0</td>\n",
       "      <td>0.0</td>\n",
       "      <td>0.0</td>\n",
       "      <td>0.0</td>\n",
       "      <td>0.0</td>\n",
       "      <td>0.0</td>\n",
       "      <td>0.0</td>\n",
       "    </tr>\n",
       "  </tbody>\n",
       "</table>\n",
       "<p>1 rows × 163 columns</p>\n",
       "</div>"
      ],
      "text/plain": [
       "   player_id  week  defensiveSoloTackles  defensiveTotalTackles  110  \\\n",
       "0    4242899     9                   3.0                    3.0  1.0   \n",
       "\n",
       "   teamLoss  210  defensiveAssistedTackles  111  112  ...  228  \\\n",
       "0       1.0  1.0                       0.0  0.0  0.0  ...  0.0   \n",
       "\n",
       "   missedFieldGoalsFrom60Plus  netPunts  puntYards  143  puntAverage  \\\n",
       "0                         0.0       0.0        0.0  0.0          0.0   \n",
       "\n",
       "   puntAverage42.0-43.9  fumbleRecoveredForTD  defensive2PtReturns  \\\n",
       "0                   0.0                   0.0                  0.0   \n",
       "\n",
       "   passing400PlusYardGame  \n",
       "0                     0.0  \n",
       "\n",
       "[1 rows x 163 columns]"
      ]
     },
     "execution_count": 12,
     "metadata": {},
     "output_type": "execute_result"
    }
   ],
   "source": [
    "stats.head(1)"
   ]
  },
  {
   "cell_type": "code",
   "execution_count": 13,
   "id": "963934e8-eb3a-4372-b611-724e2d921e71",
   "metadata": {},
   "outputs": [
    {
     "data": {
      "text/html": [
       "<div>\n",
       "<style scoped>\n",
       "    .dataframe tbody tr th:only-of-type {\n",
       "        vertical-align: middle;\n",
       "    }\n",
       "\n",
       "    .dataframe tbody tr th {\n",
       "        vertical-align: top;\n",
       "    }\n",
       "\n",
       "    .dataframe thead th {\n",
       "        text-align: right;\n",
       "    }\n",
       "</style>\n",
       "<table border=\"1\" class=\"dataframe\">\n",
       "  <thead>\n",
       "    <tr style=\"text-align: right;\">\n",
       "      <th></th>\n",
       "      <th>week</th>\n",
       "      <th>active_status</th>\n",
       "      <th>avg_points</th>\n",
       "      <th>injured</th>\n",
       "      <th>injury_status</th>\n",
       "      <th>lineup_slot</th>\n",
       "      <th>name</th>\n",
       "      <th>team_id</th>\n",
       "      <th>on_bye_week</th>\n",
       "      <th>player_id</th>\n",
       "      <th>points</th>\n",
       "      <th>position</th>\n",
       "      <th>slot_position</th>\n",
       "    </tr>\n",
       "  </thead>\n",
       "  <tbody>\n",
       "    <tr>\n",
       "      <th>0</th>\n",
       "      <td>1</td>\n",
       "      <td>active</td>\n",
       "      <td>0</td>\n",
       "      <td>False</td>\n",
       "      <td>ACTIVE</td>\n",
       "      <td>QB</td>\n",
       "      <td>Jalen Hurts</td>\n",
       "      <td>12</td>\n",
       "      <td>False</td>\n",
       "      <td>4040715</td>\n",
       "      <td>17.42</td>\n",
       "      <td>QB</td>\n",
       "      <td>QB</td>\n",
       "    </tr>\n",
       "  </tbody>\n",
       "</table>\n",
       "</div>"
      ],
      "text/plain": [
       "   week active_status  avg_points  injured injury_status lineup_slot  \\\n",
       "0     1        active           0    False        ACTIVE          QB   \n",
       "\n",
       "          name  team_id  on_bye_week  player_id  points position slot_position  \n",
       "0  Jalen Hurts       12        False    4040715   17.42       QB            QB  "
      ]
     },
     "execution_count": 13,
     "metadata": {},
     "output_type": "execute_result"
    }
   ],
   "source": [
    "lineups.head(1)"
   ]
  },
  {
   "cell_type": "code",
   "execution_count": 14,
   "id": "6a6f924b-ed5b-40f6-bf53-fddb358df62e",
   "metadata": {},
   "outputs": [
    {
     "data": {
      "text/html": [
       "<div>\n",
       "<style scoped>\n",
       "    .dataframe tbody tr th:only-of-type {\n",
       "        vertical-align: middle;\n",
       "    }\n",
       "\n",
       "    .dataframe tbody tr th {\n",
       "        vertical-align: top;\n",
       "    }\n",
       "\n",
       "    .dataframe thead th {\n",
       "        text-align: right;\n",
       "    }\n",
       "</style>\n",
       "<table border=\"1\" class=\"dataframe\">\n",
       "  <thead>\n",
       "    <tr style=\"text-align: right;\">\n",
       "      <th></th>\n",
       "      <th>player_id</th>\n",
       "      <th>game_id</th>\n",
       "      <th>season</th>\n",
       "      <th>week</th>\n",
       "      <th>team</th>\n",
       "      <th>opponent</th>\n",
       "      <th>date</th>\n",
       "      <th>team_score</th>\n",
       "      <th>opponent_score</th>\n",
       "    </tr>\n",
       "  </thead>\n",
       "  <tbody>\n",
       "    <tr>\n",
       "      <th>0</th>\n",
       "      <td>4242899</td>\n",
       "      <td>401671791</td>\n",
       "      <td>2024</td>\n",
       "      <td>6</td>\n",
       "      <td>19</td>\n",
       "      <td>4</td>\n",
       "      <td>2024-10-14T00:20:00.000+00:00</td>\n",
       "      <td>7</td>\n",
       "      <td>17</td>\n",
       "    </tr>\n",
       "  </tbody>\n",
       "</table>\n",
       "</div>"
      ],
      "text/plain": [
       "   player_id    game_id  season  week  team  opponent  \\\n",
       "0    4242899  401671791    2024     6    19         4   \n",
       "\n",
       "                            date  team_score  opponent_score  \n",
       "0  2024-10-14T00:20:00.000+00:00           7              17  "
      ]
     },
     "execution_count": 14,
     "metadata": {},
     "output_type": "execute_result"
    }
   ],
   "source": [
    "appearances.head(1)"
   ]
  },
  {
   "cell_type": "code",
   "execution_count": 15,
   "id": "016b4df6-f948-44c8-999b-e8e53b05eb34",
   "metadata": {},
   "outputs": [],
   "source": [
    "lineups_with_stats = pd.merge(lineups, stats, on = [\"player_id\", \"week\"])\n",
    "master = pd.merge(lineups_with_stats, appearances, on=[\"player_id\", \"week\"])"
   ]
  },
  {
   "cell_type": "code",
   "execution_count": 18,
   "id": "f005542e-3959-4a22-ac48-cc0511950649",
   "metadata": {},
   "outputs": [
    {
     "data": {
      "text/html": [
       "<div>\n",
       "<style scoped>\n",
       "    .dataframe tbody tr th:only-of-type {\n",
       "        vertical-align: middle;\n",
       "    }\n",
       "\n",
       "    .dataframe tbody tr th {\n",
       "        vertical-align: top;\n",
       "    }\n",
       "\n",
       "    .dataframe thead th {\n",
       "        text-align: right;\n",
       "    }\n",
       "</style>\n",
       "<table border=\"1\" class=\"dataframe\">\n",
       "  <thead>\n",
       "    <tr style=\"text-align: right;\">\n",
       "      <th></th>\n",
       "      <th>week</th>\n",
       "      <th>active_status</th>\n",
       "      <th>avg_points</th>\n",
       "      <th>injured</th>\n",
       "      <th>injury_status</th>\n",
       "      <th>lineup_slot</th>\n",
       "      <th>name</th>\n",
       "      <th>team_id</th>\n",
       "      <th>on_bye_week</th>\n",
       "      <th>player_id</th>\n",
       "      <th>...</th>\n",
       "      <th>fumbleRecoveredForTD</th>\n",
       "      <th>defensive2PtReturns</th>\n",
       "      <th>passing400PlusYardGame</th>\n",
       "      <th>game_id</th>\n",
       "      <th>season</th>\n",
       "      <th>team</th>\n",
       "      <th>opponent</th>\n",
       "      <th>date</th>\n",
       "      <th>team_score</th>\n",
       "      <th>opponent_score</th>\n",
       "    </tr>\n",
       "  </thead>\n",
       "  <tbody>\n",
       "    <tr>\n",
       "      <th>0</th>\n",
       "      <td>1</td>\n",
       "      <td>active</td>\n",
       "      <td>0</td>\n",
       "      <td>False</td>\n",
       "      <td>ACTIVE</td>\n",
       "      <td>DE</td>\n",
       "      <td>Josh Hines-Allen</td>\n",
       "      <td>0</td>\n",
       "      <td>False</td>\n",
       "      <td>3915239</td>\n",
       "      <td>...</td>\n",
       "      <td>0.0</td>\n",
       "      <td>0.0</td>\n",
       "      <td>0.0</td>\n",
       "      <td>401671849</td>\n",
       "      <td>2024</td>\n",
       "      <td>30</td>\n",
       "      <td>15</td>\n",
       "      <td>2024-09-08T17:00:00.000+00:00</td>\n",
       "      <td>17</td>\n",
       "      <td>20</td>\n",
       "    </tr>\n",
       "  </tbody>\n",
       "</table>\n",
       "<p>1 rows × 181 columns</p>\n",
       "</div>"
      ],
      "text/plain": [
       "   week active_status  avg_points  injured injury_status lineup_slot  \\\n",
       "0     1        active           0    False        ACTIVE          DE   \n",
       "\n",
       "               name  team_id  on_bye_week  player_id  ...  \\\n",
       "0  Josh Hines-Allen        0        False    3915239  ...   \n",
       "\n",
       "   fumbleRecoveredForTD defensive2PtReturns passing400PlusYardGame    game_id  \\\n",
       "0                   0.0                 0.0                    0.0  401671849   \n",
       "\n",
       "   season  team  opponent                           date  team_score  \\\n",
       "0    2024    30        15  2024-09-08T17:00:00.000+00:00          17   \n",
       "\n",
       "   opponent_score  \n",
       "0              20  \n",
       "\n",
       "[1 rows x 181 columns]"
      ]
     },
     "execution_count": 18,
     "metadata": {},
     "output_type": "execute_result"
    }
   ],
   "source": [
    "master.head(1)"
   ]
  },
  {
   "cell_type": "code",
   "execution_count": 28,
   "id": "34c2bb1f-6b44-418b-9511-6e60076cdd78",
   "metadata": {},
   "outputs": [
    {
     "name": "stdout",
     "output_type": "stream",
     "text": [
      "10, 100, 11, 110, 111, 112, 116, 117, 119, 12, 13, 14, 143, 175, 176, 177, 178, 179, 180, 181, 182, 183, 184, 185, 186, 198, 199, 200, 210, 211, 212, 213, 214, 215, 216, 217, 218, 219, 220, 221, 222, 223, 224, 225, 226, 227, 228, 229, 230, 231, 232, 233, 234, 27, 28, 29, 30, 31, 32, 33, 34, 47, 48, 49, 5, 50, 51, 52, 54, 55, 6, 65, 66, 67, 69, 7, 70, 71, 8, 9, active_status, attemptedExtraPoints, attemptedFieldGoals, attemptedFieldGoalsFrom40To49, attemptedFieldGoalsFrom50Plus, attemptedFieldGoalsFrom60Plus, attemptedFieldGoalsFromUnder40, avg_points, date, defensive2PtReturns, defensiveAssistedTackles, defensiveBlockedKickForTouchdowns, defensiveBlockedKicks, defensiveForcedFumbles, defensiveFumbles, defensiveInterceptions, defensivePassesDefensed, defensivePlusSpecialTeamsTouchdowns, defensiveSacks, defensiveSafeties, defensiveSoloTackles, defensiveTotalTackles, defensiveTouchdowns, fumbleRecoveredForTD, fumbleReturnTouchdowns, fumbles, game_id, injured, injury_status, interceptionReturnTouchdowns, kickoffReturnTouchdowns, kickoffReturnYards, lineup_slot, lostFumbles, madeExtraPoints, madeFieldGoals, madeFieldGoalsFrom40To49, madeFieldGoalsFrom50Plus, madeFieldGoalsFrom60Plus, madeFieldGoalsFromUnder40, missedExtraPoints, missedFieldGoals, missedFieldGoalsFrom40To49, missedFieldGoalsFrom50Plus, missedFieldGoalsFrom60Plus, missedFieldGoalsFromUnder40, name, netPunts, on_bye_week, opponent, opponent_score, passing2PtConversions, passing300To399YardGame, passing400PlusYardGame, passing40PlusYardTD, passing50PlusYardTD, passingAttempts, passingCompletionPercentage, passingCompletions, passingIncompletions, passingInterceptions, passingTimesSacked, passingTouchdowns, passingYards, player_id, points, pointsScored, position, puntAverage, puntAverage42.0-43.9, puntReturnTouchdowns, puntReturnYards, puntYards, puntsReturned, receiving100To199YardGame, receiving2PtConversions, receiving40PlusYardTD, receiving50PlusYardTD, receivingReceptions, receivingTargets, receivingTouchdowns, receivingYards, receivingYardsAfterCatch, receivingYardsPerReception, rushing100To199YardGame, rushing2PtConversions, rushing40PlusYardTD, rushing50PlusYardTD, rushingAttempts, rushingTouchdowns, rushingYards, rushingYardsPerAttempt, season, slot_position, team, teamLoss, teamWin, team_id, team_score, turnovers, week\n"
     ]
    }
   ],
   "source": [
    "print(\", \".join(sorted(master.columns)))"
   ]
  },
  {
   "cell_type": "code",
   "execution_count": 19,
   "id": "bd35725e-642d-45dd-bb6e-d347ca2d76b2",
   "metadata": {},
   "outputs": [],
   "source": [
    "points_by_action = pd.read_csv(\"constants/scoring_format.csv\").set_index(\"lookupName\")\n",
    "points_by_action_series = points_by_action.points\n",
    "def f(row):\n",
    "    return (points_by_action.points * row[row.index.isin(points_by_action.index)].astype(float)).sum()"
   ]
  },
  {
   "cell_type": "code",
   "execution_count": 31,
   "id": "4b6681d2-0b63-4ae6-8474-8cbb287ed82f",
   "metadata": {},
   "outputs": [
    {
     "data": {
      "text/plain": [
       "player_id\n",
       "15795       1.8\n",
       "4685247     2.7\n",
       "3915239     4.5\n",
       "4259545     5.0\n",
       "3915282     6.0\n",
       "15847       6.4\n",
       "15818       6.9\n",
       "4046537     9.5\n",
       "3915189    19.0\n",
       "Name: points, dtype: float64"
      ]
     },
     "execution_count": 31,
     "metadata": {},
     "output_type": "execute_result"
    }
   ],
   "source": [
    "master.groupby(\"player_id\").points.sum().sort_values()"
   ]
  }
 ],
 "metadata": {
  "kernelspec": {
   "display_name": "Python 3 (ipykernel)",
   "language": "python",
   "name": "python3"
  },
  "language_info": {
   "codemirror_mode": {
    "name": "ipython",
    "version": 3
   },
   "file_extension": ".py",
   "mimetype": "text/x-python",
   "name": "python",
   "nbconvert_exporter": "python",
   "pygments_lexer": "ipython3",
   "version": "3.11.2"
  }
 },
 "nbformat": 4,
 "nbformat_minor": 5
}
