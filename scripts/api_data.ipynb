{
  "cells": [
    {
      "cell_type": "code",
      "execution_count": 158,
      "id": "6a69d8e8-c6eb-4c73-9b2b-abce04a8928c",
      "metadata": {
        "execution": {
          "iopub.execute_input": "2024-11-02T20:04:34.493Z",
          "iopub.status.busy": "2024-11-02T20:04:34.478Z",
          "iopub.status.idle": "2024-11-02T20:04:35.999Z",
          "shell.execute_reply": "2024-11-02T20:04:36.010Z"
        }
      },
      "outputs": [],
      "source": [
        "from espn_api.football import League, Player\n",
        "import json\n",
        "import espn_api\n",
        "import os\n",
        "from itertools import groupby\n",
        "from collections import defaultdict\n",
        "import espn_api.football as e\n",
        "import requests\n",
        "import pandas as pd\n",
        "\n",
        "from typing import List, Dict\n",
        "import pyperclip\n",
        "import time\n",
        "from objects import *\n",
        "from utils import *"
      ]
    },
    {
      "cell_type": "code",
      "execution_count": 509,
      "id": "8b5fbe34",
      "metadata": {},
      "outputs": [],
      "source": [
        "POSITIONS = ['WR', 'RB', 'TE', 'DE', 'LB', 'S', 'CB', 'DT', 'QB', 'K']\n",
        "\n",
        "GAME_LOGS_LINK = \"https://site.web.api.espn.com/apis/common/v3/sports/football/nfl/athletes/{player}/gamelog?region=us&lang=en&contentorigin=espn&season={year}\""
      ]
    },
    {
      "cell_type": "code",
      "execution_count": 3,
      "id": "2ee0f2f7-fe29-40bd-8183-cc4c91ff9aaf",
      "metadata": {
        "collapsed": true,
        "execution": {
          "iopub.execute_input": "2024-11-02T20:01:56.819Z",
          "iopub.status.busy": "2024-11-02T20:01:56.797Z",
          "iopub.status.idle": "2024-11-02T20:01:56.833Z",
          "shell.execute_reply": "2024-11-02T20:01:56.842Z"
        },
        "jupyter": {
          "outputs_hidden": false,
          "source_hidden": false
        },
        "nteract": {
          "transient": {
            "deleting": false
          }
        }
      },
      "outputs": [],
      "source": [
        "LAMAR = 3916387\n",
        "DICKER = 4362081"
      ]
    },
    {
      "cell_type": "code",
      "execution_count": 4,
      "id": "dc26eacd-8aba-4630-ba81-958d1624bc14",
      "metadata": {
        "execution": {
          "iopub.execute_input": "2024-11-02T21:11:12.162Z",
          "iopub.status.busy": "2024-11-02T21:11:12.152Z",
          "iopub.status.idle": "2024-11-02T21:11:15.846Z",
          "shell.execute_reply": "2024-11-02T21:11:15.910Z"
        }
      },
      "outputs": [],
      "source": [
        "league = League(league_id=62847108, year=2024, debug = False)\n",
        "teams = league.teams"
      ]
    },
    {
      "cell_type": "code",
      "execution_count": 3,
      "id": "9e0e5d89",
      "metadata": {},
      "outputs": [
        {
          "data": {
            "text/plain": [
              "(0.4, 0.6172839506172839)"
            ]
          },
          "execution_count": 3,
          "metadata": {},
          "output_type": "execute_result"
        }
      ],
      "source": [
        "1/2.5, 1/1.62"
      ]
    },
    {
      "cell_type": "code",
      "execution_count": 2,
      "id": "9bd26ebc",
      "metadata": {},
      "outputs": [
        {
          "data": {
            "text/plain": [
              "1.0374520178441746"
            ]
          },
          "execution_count": 2,
          "metadata": {},
          "output_type": "execute_result"
        }
      ],
      "source": [
        "1/1.62 + 1/2.38"
      ]
    },
    {
      "cell_type": "code",
      "execution_count": 1,
      "id": "cdafee21",
      "metadata": {},
      "outputs": [
        {
          "data": {
            "text/plain": [
              "(0.6535947712418301, 0.42016806722689076)"
            ]
          },
          "execution_count": 1,
          "metadata": {},
          "output_type": "execute_result"
        }
      ],
      "source": [
        "1/1.53, 1/2.38"
      ]
    },
    {
      "cell_type": "markdown",
      "id": "a26f1234",
      "metadata": {},
      "source": [
        "## Docs\n",
        "\n",
        "### Raw season"
      ]
    },
    {
      "cell_type": "markdown",
      "id": "c6f56bda",
      "metadata": {},
      "source": [
        "# Reading/Writing"
      ]
    },
    {
      "cell_type": "code",
      "execution_count": 537,
      "id": "954a8132",
      "metadata": {},
      "outputs": [],
      "source": [
        "RAW_SEASON_STATS = \"raw_season_stats\"\n",
        "CLEAN_SEASON_STATS = \"clean_season_stats\"\n",
        "CLEAN_PROJECTED_STATS = \"clean_projected_season_stats\"\n",
        "SEASON_APPEARENCES = \"season_appearences\"\n",
        "RAW_PLAYER_GAME_LOGS = \"raw_player_logs\"\n",
        "LINEUPS = \"lineups\"\n",
        "\n",
        "def write_csv(df, path):\n",
        "    directory = os.path.dirname(path)\n",
        "    os.makedirs(directory, exist_ok=True)\n",
        "    df.to_csv(path + \".csv\")\n",
        "\n",
        "def write_json(d, path):\n",
        "    directory = os.path.dirname(path)\n",
        "    os.makedirs(directory, exist_ok=True)\n",
        "    json.dump(d, open(path + \".json\", \"w\"))\n",
        "\n",
        "def try_read_json(path):\n",
        "    try:\n",
        "        if os.path.exists(path + \".json\"):\n",
        "            return json.load(open(path + \".json\", \"r\"))\n",
        "        return False\n",
        "    except Exception as e:\n",
        "        print(path)\n",
        "        raise e\n",
        "\n",
        "def read_raw_season_stats(year: int):\n",
        "    return json.load(open(f\"{year}/{RAW_SEASON_STATS}.json\", \"r\"))\n",
        "\n",
        "def write_raw_season_stats(year: int, stats):\n",
        "    write_json(stats, f\"{year}/{RAW_SEASON_STATS}\")\n",
        "\n",
        "def read_season_appearences(year):\n",
        "    return pd.read_csv(f\"{year}/{SEASON_APPEARENCES}/.csv\")\n",
        "\n",
        "def write_season_appearences(logs, year):\n",
        "    write_csv(logs, f\"{year}/{SEASON_APPEARENCES}\")\n",
        "\n",
        "def write_raw_game_logs(logs, player, year):\n",
        "    write_json(logs, f\"{year}/{RAW_PLAYER_GAME_LOGS}/{player}\")\n",
        "\n",
        "def try_read_raw_game_logs(player, year):\n",
        "    return try_read_json(f\"{year}/{RAW_PLAYER_GAME_LOGS}/{player}\")\n",
        "\n",
        "def read_clean_season_stats(year: int):\n",
        "    return pd.read_csv(f\"{year}/{CLEAN_SEASON_STATS}\")\n",
        "\n",
        "def write_clean_season_stats(year: int, stats):\n",
        "    write_csv(stats, f\"{year}/{CLEAN_SEASON_STATS}\")\n",
        "\n",
        "def read_clean_projected_season_stats(year: int):\n",
        "    return pd.read_csv(f\"{year}/{CLEAN_PROJECTED_STATS}\")\n",
        "\n",
        "def write_clean_projected_season_stats(year: int, stats):\n",
        "    write_csv(stats, f\"{year}/{CLEAN_PROJECTED_STATS}\")\n",
        "\n",
        "def write_lineups(lineups, year, week):\n",
        "    write_csv(lineups, f\"{year}/{LINEUPS}/{week}\")\n",
        "\n",
        "def read_lineups(year, week):\n",
        "    pd.read_csv(f\"{year}/{LINEUPS}/{week}.csv\")"
      ]
    },
    {
      "cell_type": "markdown",
      "id": "bb261424",
      "metadata": {},
      "source": [
        "# Get all players and write to file"
      ]
    },
    {
      "cell_type": "code",
      "execution_count": 442,
      "id": "ae125358",
      "metadata": {},
      "outputs": [],
      "source": [
        "def get_players_batch(league: League, ids: int):\n",
        "    players = []\n",
        "    player_infos = league.player_info(playerId = ids)\n",
        "    for player in player_infos:\n",
        "        team = player.proTeam\n",
        "        player_stats = dict()\n",
        "        player_stats[\"id\"] = player.playerId\n",
        "        player_stats[\"name\"] = player.name\n",
        "        player_stats[\"position\"] = player.position\n",
        "        player_stats[\"stats\"] = dict()\n",
        "        for week in player.stats.keys():\n",
        "            player.stats[week][\"team\"] = team\n",
        "            #if (week < 0) and (week in schedule.keys()) and (team in schedule[week].keys()):\n",
        "            #    player.stats[week][\"opponent\"] = schedule[week][team]\n",
        "            #else:\n",
        "            #    player.stats[week][\"opponent\"] = \"\"\n",
        "            player_stats[\"stats\"][week] = player.stats[week]\n",
        "        players.append(player_stats)\n",
        "    \n",
        "    return players\n",
        "\n",
        "def get_all_players(league: League, ids: List[int]):\n",
        "    batch_size = 1000\n",
        "\n",
        "    start = 0\n",
        "    batch_size = 1_000\n",
        "\n",
        "    players = []\n",
        "\n",
        "    while start < len(ids):\n",
        "        players += get_players_batch(league, ids[start:start+batch_size])\n",
        "        start += batch_size\n",
        "    \n",
        "    write_raw_season_stats(league.year, players)\n",
        "\n",
        "get_all_players(league, player_ids[:1002])"
      ]
    },
    {
      "cell_type": "code",
      "execution_count": 545,
      "id": "70f1453a",
      "metadata": {},
      "outputs": [],
      "source": [
        "player_ids = [key for key in league.player_map if type(key) == int]"
      ]
    },
    {
      "cell_type": "markdown",
      "id": "fe66b02e",
      "metadata": {},
      "source": [
        "## Clean Stats"
      ]
    },
    {
      "cell_type": "code",
      "execution_count": 456,
      "id": "1bc72349",
      "metadata": {},
      "outputs": [],
      "source": [
        "def create(player, actual):\n",
        "    key = \"breakdown\" if actual else \"projected_breakdown\" # only exists for season total\n",
        "    rows = []\n",
        "    for week in player[\"stats\"]:\n",
        "\n",
        "        if not actual or week != \"0\":\n",
        "             continue\n",
        "         \n",
        "        stats = dict()\n",
        "        stats[\"id\"] = player[\"id\"]\n",
        "        stats[\"week\"] = week\n",
        "        stats[\"position\"] = player[\"position\"]\n",
        "\n",
        "        for k in player[\"stats\"][week][key]:\n",
        "                stats[k] = player[\"stats\"][week][key][k]\n",
        "                \n",
        "        rows.append(stats)\n",
        "\n",
        "    return rows\n",
        "\n",
        "\n",
        "def clean_season_stats(season: int):\n",
        "\n",
        "    actual_stats = read_raw_season_stats(2024)\n",
        "    actual_rows = []\n",
        "    projected_rows = []\n",
        "    for player in actual_stats:\n",
        "        actual_rows += create(player, True)\n",
        "        projected_rows += create(player, False)\n",
        "\n",
        "\n",
        "    actual_stats = pd.DataFrame(actual_rows)\n",
        "    actual_stats.fillna(0, inplace=True)\n",
        "\n",
        "    projected_stats = pd.DataFrame(actual_rows)\n",
        "    projected_stats.fillna(0, inplace=True)\n",
        "\n",
        "    write_clean_season_stats(season, actual_stats)\n",
        "    write_clean_projected_season_stats(season, projected_stats)\n",
        "\n",
        "clean_season_stats(2024)"
      ]
    },
    {
      "cell_type": "markdown",
      "id": "11ec4f6e",
      "metadata": {},
      "source": [
        "## Calculate points"
      ]
    },
    {
      "cell_type": "code",
      "execution_count": 429,
      "id": "9c9e8269",
      "metadata": {},
      "outputs": [
        {
          "data": {
            "text/html": [
              "<div>\n",
              "<style scoped>\n",
              "    .dataframe tbody tr th:only-of-type {\n",
              "        vertical-align: middle;\n",
              "    }\n",
              "\n",
              "    .dataframe tbody tr th {\n",
              "        vertical-align: top;\n",
              "    }\n",
              "\n",
              "    .dataframe thead th {\n",
              "        text-align: right;\n",
              "    }\n",
              "</style>\n",
              "<table border=\"1\" class=\"dataframe\">\n",
              "  <thead>\n",
              "    <tr style=\"text-align: right;\">\n",
              "      <th></th>\n",
              "      <th>Unnamed: 0</th>\n",
              "      <th>abbr</th>\n",
              "      <th>label</th>\n",
              "      <th>id</th>\n",
              "      <th>points</th>\n",
              "      <th>modified</th>\n",
              "      <th>WR</th>\n",
              "      <th>RB</th>\n",
              "      <th>TE</th>\n",
              "      <th>DE</th>\n",
              "      <th>LB</th>\n",
              "      <th>S</th>\n",
              "      <th>CB</th>\n",
              "      <th>DT</th>\n",
              "      <th>QB</th>\n",
              "      <th>K</th>\n",
              "    </tr>\n",
              "    <tr>\n",
              "      <th>lookupName</th>\n",
              "      <th></th>\n",
              "      <th></th>\n",
              "      <th></th>\n",
              "      <th></th>\n",
              "      <th></th>\n",
              "      <th></th>\n",
              "      <th></th>\n",
              "      <th></th>\n",
              "      <th></th>\n",
              "      <th></th>\n",
              "      <th></th>\n",
              "      <th></th>\n",
              "      <th></th>\n",
              "      <th></th>\n",
              "      <th></th>\n",
              "      <th></th>\n",
              "    </tr>\n",
              "  </thead>\n",
              "  <tbody>\n",
              "    <tr>\n",
              "      <th>112</th>\n",
              "      <td>7.0</td>\n",
              "      <td>STF</td>\n",
              "      <td>Stuffs</td>\n",
              "      <td>112.0</td>\n",
              "      <td>0.5</td>\n",
              "      <td>True</td>\n",
              "      <td>False</td>\n",
              "      <td>False</td>\n",
              "      <td>False</td>\n",
              "      <td>True</td>\n",
              "      <td>True</td>\n",
              "      <td>True</td>\n",
              "      <td>True</td>\n",
              "      <td>True</td>\n",
              "      <td>False</td>\n",
              "      <td>False</td>\n",
              "    </tr>\n",
              "  </tbody>\n",
              "</table>\n",
              "</div>"
            ],
            "text/plain": [
              "            Unnamed: 0 abbr   label     id  points modified     WR     RB  \\\n",
              "lookupName                                                                  \n",
              "112                7.0  STF  Stuffs  112.0     0.5     True  False  False   \n",
              "\n",
              "               TE    DE    LB     S    CB    DT     QB      K  \n",
              "lookupName                                                     \n",
              "112         False  True  True  True  True  True  False  False  "
            ]
          },
          "execution_count": 429,
          "metadata": {},
          "output_type": "execute_result"
        }
      ],
      "source": [
        "points_by_action = pd.read_csv(\"scoring_format.csv\").set_index(\"lookupName\")\n",
        "points_by_action_series = points_by_action.points\n",
        "points_by_action.head(1)"
      ]
    },
    {
      "cell_type": "code",
      "execution_count": 430,
      "id": "6a58b0e6",
      "metadata": {},
      "outputs": [],
      "source": [
        "def f(row):\n",
        "    return (points_by_action.points * row[row.index.isin(points_by_action.index)].astype(float)).sum()\n",
        "\n",
        "# stats[\"calculated\"] = stats.apply(f, 1)"
      ]
    },
    {
      "cell_type": "code",
      "execution_count": 172,
      "id": "d7a58227",
      "metadata": {},
      "outputs": [],
      "source": [
        "def get_stat_types(stats):\n",
        "    stat_types = set()\n",
        "    for player in stats:\n",
        "        for week in player[\"stats\"]:\n",
        "            for stat_type in player[\"stats\"][week][\"breakdown\"]:\n",
        "                if not stat_type.isnumeric():\n",
        "                    stat_types.add(stat_type)\n",
        "    return stat_types"
      ]
    },
    {
      "cell_type": "code",
      "execution_count": 225,
      "id": "6271aa0f",
      "metadata": {},
      "outputs": [
        {
          "name": "stdout",
          "output_type": "stream",
          "text": [
            "3916387\n",
            "4362081\n",
            "4242899\n"
          ]
        }
      ],
      "source": [
        "def parse_gamelog(gamelog: dict, season: int, player_id: int) -> dict:\n",
        "    \n",
        "    opponent = gamelog[\"opponent\"][\"id\"]\n",
        "    is_home = gamelog[\"homeTeamId\"] != opponent\n",
        "    team = gamelog[\"homeTeamId\"] if is_home else gamelog[\"awayTeamId\"]\n",
        "    score = gamelog[\"homeTeamScore\"] if is_home else gamelog[\"awayTeamScore\"]\n",
        "    opponent_score = gamelog[\"homeTeamScore\"] if not is_home else gamelog[\"awayTeamScore\"]\n",
        "    date = gamelog[\"gameDate\"]\n",
        "    game_id = gamelog[\"id\"]\n",
        "    week = gamelog[\"week\"]\n",
        "\n",
        "    return {\n",
        "        \"PlayerId\": player_id,\n",
        "        \"GameId\": game_id,\n",
        "        \"Season\": season,\n",
        "        \"Week\": week,\n",
        "        \"Team\": team,\n",
        "        \"Opponent\": opponent,\n",
        "        \"Date\": date,\n",
        "        \"TeamScore\": score,\n",
        "        \"OpponentScore\": opponent_score,\n",
        "    }\n",
        "\n",
        "\n",
        "def parse_season(season_logs, season, player):\n",
        "    game_logs = []\n",
        "\n",
        "    if \"events\" not in season_logs.keys():\n",
        "        return game_logs\n",
        "    \n",
        "    for game_id in season_logs[\"events\"].keys():\n",
        "        game_logs.append(parse_gamelog(season_logs[\"events\"][game_id], season, player))\n",
        "\n",
        "    return game_logs\n",
        "\n",
        "\n",
        "def get_season_appearences(player_ids, start_year, end_year):\n",
        "\n",
        "    seasons = range(start_year, end_year+1)\n",
        "    logs_by_season = {season: [] for season in seasons}\n",
        "\n",
        "    for player in player_ids:\n",
        "        time.sleep(0.5)\n",
        "        print(player)\n",
        "        for season in seasons:\n",
        "            local_logs = try_read_raw_game_logs(player, season)\n",
        "            if local_logs:\n",
        "                season_logs = local_logs\n",
        "            else:\n",
        "                season_logs = requests.get(GAME_LOGS_LINK.format(player=player, year=season)).content\n",
        "                season_logs = json.loads(season_logs)\n",
        "                write_raw_game_logs(season_logs, player, season)\n",
        "            logs_by_season[season] += parse_season(season_logs, season, player)\n",
        "\n",
        "    for season in seasons:\n",
        "        df = pd.DataFrame(logs_by_season[season])\n",
        "        write_season_appearences(df, season)\n",
        "\n",
        "\n",
        "logs = get_season_appearences([LAMAR, DICKER, 4242899], 2022, 2024)\n",
        "        "
      ]
    },
    {
      "cell_type": "code",
      "execution_count": 11,
      "id": "cd0ff212",
      "metadata": {},
      "outputs": [
        {
          "data": {
            "text/plain": [
              "(29, 2017)"
            ]
          },
          "execution_count": 11,
          "metadata": {},
          "output_type": "execute_result"
        }
      ],
      "source": [
        "def get_player_age_and_debut_year(id):\n",
        "    url = f\"http://sports.core.api.espn.com/v2/sports/football/leagues/nfl/athletes/{id}\"\n",
        "    content = requests.get(url).content\n",
        "    player_dict = json.loads(content)\n",
        "    return player_dict[\"age\"], player_dict[\"debutYear\"]\n",
        "\n",
        "get_player_age_and_debut_year(3045282)"
      ]
    },
    {
      "cell_type": "code",
      "execution_count": 540,
      "id": "87311aa1",
      "metadata": {},
      "outputs": [],
      "source": [
        "def get_player_lineup_info(player):\n",
        "    info = {\n",
        "        #'acquisitionType': player.acquisitionType,\n",
        "        'active_status': player.active_status,\n",
        "        'avg_points': player.avg_points,\n",
        "        #'eligibleSlots': player.eligibleSlots,\n",
        "        #'game_date': player.game_date,\n",
        "        #'game_played': player.game_played,\n",
        "        'injured': player.injured,\n",
        "        'injuryStatus': player.injuryStatus,\n",
        "        'lineupSlot': player.lineupSlot,\n",
        "        'name': player.name,\n",
        "        'onTeamId': player.onTeamId,\n",
        "        'on_bye_week': player.on_bye_week,\n",
        "        #'percent_owned': player.percent_owned,\n",
        "        #'percent_started': player.percent_started,\n",
        "        'playerId': player.playerId,\n",
        "        'points': player.points,\n",
        "        #'points_breakdown': player.points_breakdown,\n",
        "        #'posRank': player.posRank,\n",
        "        'position': player.position,\n",
        "        #'proTeam': player.proTeam,\n",
        "        #'pro_opponent': player.pro_opponent,\n",
        "        'pro_pos_rank': player.pro_pos_rank,\n",
        "        #'projected_avg_points': player.projected_avg_points,\n",
        "        #'projected_breakdown': player.projected_breakdown,\n",
        "        #'projected_points': player.projected_points,\n",
        "        #'projected_total_points': player.projected_total_points,\n",
        "        #'schedule': player.schedule,\n",
        "        'slot_position': player.slot_position,\n",
        "        #'stats': player.stats,\n",
        "        #'total_points': player.total_points,\n",
        "    }\n",
        "\n",
        "    return info"
      ]
    },
    {
      "cell_type": "code",
      "execution_count": 541,
      "id": "2fde56fb",
      "metadata": {},
      "outputs": [],
      "source": [
        "def get_match_lineup(match):\n",
        "    return [get_player_lineup_info(p) for p in match.home_lineup + match.away_lineup]\n",
        "\n",
        "def get_lineups(league, min_week, max_week):\n",
        "    for week in range(min_week, max_week+1):\n",
        "        player_info = []\n",
        "        boxscores = league.box_scores(week)\n",
        "        \n",
        "        for match in boxscores:\n",
        "            player_info += get_match_lineup(match)\n",
        "        \n",
        "        write_lineups(pd.DataFrame(player_info), league.year, week)\n",
        "\n",
        "get_lineups(league, 1, 7)"
      ]
    },
    {
      "cell_type": "code",
      "execution_count": 544,
      "id": "221b328b-bfea-4045-8796-6b45e019d833",
      "metadata": {},
      "outputs": [],
      "source": [
        "teams = []\n",
        "for team in league.teams:\n",
        "    teams.append({\"id\": team.team_id, \"name\": team.team_name})\n",
        "\n",
        "pd.DataFrame(teams).to_csv(\"lookup/teams.csv\")"
      ]
    }
  ],
  "metadata": {
    "kernelspec": {
      "display_name": "footballenv",
      "language": "python",
      "name": "python3"
    },
    "language_info": {
      "codemirror_mode": {
        "name": "ipython",
        "version": 3
      },
      "file_extension": ".py",
      "mimetype": "text/x-python",
      "name": "python",
      "nbconvert_exporter": "python",
      "pygments_lexer": "ipython3",
      "version": "3.11.5"
    },
    "nteract": {
      "version": "0.28.0"
    }
  },
  "nbformat": 4,
  "nbformat_minor": 5
}
